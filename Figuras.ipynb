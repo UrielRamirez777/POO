{
  "nbformat": 4,
  "nbformat_minor": 0,
  "metadata": {
    "colab": {
      "provenance": [],
      "authorship_tag": "ABX9TyPuiKLAK54034lD8v56yvCG",
      "include_colab_link": true
    },
    "kernelspec": {
      "name": "python3",
      "display_name": "Python 3"
    },
    "language_info": {
      "name": "python"
    }
  },
  "cells": [
    {
      "cell_type": "markdown",
      "metadata": {
        "id": "view-in-github",
        "colab_type": "text"
      },
      "source": [
        "<a href=\"https://colab.research.google.com/github/UrielRamirez777/POO/blob/main/Figuras.ipynb\" target=\"_parent\"><img src=\"https://colab.research.google.com/assets/colab-badge.svg\" alt=\"Open In Colab\"/></a>"
      ]
    },
    {
      "cell_type": "markdown",
      "source": [
        "Programa hecho por: Uriel Ramirez Monrroy. 06/02/2025"
      ],
      "metadata": {
        "id": "zw10icZQvlp1"
      }
    },
    {
      "cell_type": "code",
      "execution_count": 11,
      "metadata": {
        "id": "NqMazSfwn12C"
      },
      "outputs": [],
      "source": [
        "class Figuras:\n",
        "  def __init__(self):\n",
        "    self.valorb=0\n",
        "    self.valorh=0\n",
        "    self.resultado=0\n",
        "    self.valorR=0\n",
        "    self.pi=3.1416\n",
        "    self.msg=\"\"\n",
        "  def triangulo(self):\n",
        "    self.msg=\"El Area del Triangulo b= \" ,self.valorb, \"* h= \",self.valorh,\"/2 =\"\n",
        "    self.resultado=self.valorb*self.valorh/2\n",
        "\n",
        "  def cuadrado(self):\n",
        "    self.msg=\"El Area del Cuadrado b= \" ,self.valorb, \"* b= \",self.valorb,\"=\"\n",
        "    self.resultado=self.valorb*self.valorb\n",
        "\n",
        "  def rectangulo(self):\n",
        "    self.msg=\"El area del Rectangulo b= \" ,self.valorb, \"* h= \",self.valorh,\"=\"\n",
        "    self.resultado=self.valorb*self.valorh\n",
        "\n",
        "  def circulo(self):\n",
        "    self.msg=\"El area del Circulo pi * r= \" ,self.valorR, \"^2 =\"\n",
        "    self.resultado=self.pi*self.valorR*self.valorR\n",
        "\n",
        "  def imprimir(self):\n",
        "    print(self.msg,self.resultado)"
      ]
    },
    {
      "cell_type": "code",
      "source": [
        "obj=Figuras()\n",
        "obj.valorb = int(input(\"Ingrese la base:\"))\n",
        "obj.valorh = int(input(\"Ingresa la altura:\"))\n",
        "obj.valorR = int(input(\"Ingrese el radio:\"))\n",
        "obj.triangulo()\n",
        "obj.imprimir()\n",
        "obj.cuadrado()\n",
        "obj.imprimir()\n",
        "obj.rectangulo()\n",
        "obj.imprimir()\n",
        "obj.circulo()\n",
        "obj.imprimir()"
      ],
      "metadata": {
        "colab": {
          "base_uri": "https://localhost:8080/"
        },
        "id": "lCFtXGznsWmv",
        "outputId": "77dabc41-7634-4a24-ea2f-87be1f85d826"
      },
      "execution_count": 13,
      "outputs": [
        {
          "output_type": "stream",
          "name": "stdout",
          "text": [
            "Ingrese la base:2\n",
            "Ingresa la altura:2\n",
            "Ingrese el radio:5\n",
            "('El Area del Triangulo b= ', 2, '* h= ', 2, '/2 =') 2.0\n",
            "('El Area del Cuadrado b= ', 2, '* b= ', 2, '=') 4\n",
            "('El area del Rectangulo b= ', 2, '* h= ', 2, '=') 4\n",
            "('El area del Circulo pi * r= ', 5, '^2 =') 78.54\n"
          ]
        }
      ]
    }
  ]
}