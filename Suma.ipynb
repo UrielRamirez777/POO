{
  "nbformat": 4,
  "nbformat_minor": 0,
  "metadata": {
    "colab": {
      "provenance": [],
      "authorship_tag": "ABX9TyOBEkoHCKca1MDI+Nheu4f4",
      "include_colab_link": true
    },
    "kernelspec": {
      "name": "python3",
      "display_name": "Python 3"
    },
    "language_info": {
      "name": "python"
    }
  },
  "cells": [
    {
      "cell_type": "markdown",
      "metadata": {
        "id": "view-in-github",
        "colab_type": "text"
      },
      "source": [
        "<a href=\"https://colab.research.google.com/github/UrielRamirez777/POO/blob/main/Suma.ipynb\" target=\"_parent\"><img src=\"https://colab.research.google.com/assets/colab-badge.svg\" alt=\"Open In Colab\"/></a>"
      ]
    },
    {
      "cell_type": "markdown",
      "source": [
        "Programa hecho por: Uriel Ramirez Monrroy. 06/02/2025"
      ],
      "metadata": {
        "id": "T9VAWeln_BWs"
      }
    },
    {
      "cell_type": "code",
      "execution_count": 26,
      "metadata": {
        "colab": {
          "base_uri": "https://localhost:8080/"
        },
        "id": "v_WQFvNY-zx7",
        "outputId": "b6b8bca7-c8a2-45c4-daaf-bc42233666fe"
      },
      "outputs": [
        {
          "output_type": "stream",
          "name": "stdout",
          "text": [
            "4\n"
          ]
        }
      ],
      "source": [
        "class Suma:\n",
        "  def __init__(self):\n",
        "    self.valorA=1\n",
        "    self.valorB=3\n",
        "  def opercaion(self):\n",
        "    resultado= self.valorA+self.valorB\n",
        "    print(resultado)\n",
        "\n",
        "obj=Suma()\n",
        "obj.opercaion()"
      ]
    },
    {
      "cell_type": "markdown",
      "source": [
        "Variante 2 pidiedo valores"
      ],
      "metadata": {
        "id": "Dd-0UlZvDGUj"
      }
    },
    {
      "cell_type": "code",
      "source": [
        "class Operaciones:\n",
        "  def __init__(self):\n",
        "    self.valorA=0\n",
        "    self.valorB=0\n",
        "    self.resultado=0\n",
        "    self.msg=\"\"\n",
        "  def sumas(self):\n",
        "    self.msg=\"La suma de \" ,self.valorA, \"+\",self.valorB,\"=\"\n",
        "    self.resultado=self.valorA+self.valorB\n",
        "\n",
        "  def restas(self):\n",
        "    self.msg=\"La resta de \" ,self.valorA, \"+\",self.valorB,\"=\"\n",
        "    self.resultado=self.valorA-self.valorB\n",
        "\n",
        "  def multiplicacion(self):\n",
        "    self.msg=\"La multiplicacion de \" ,self.valorA, \"*\",self.valorB,\"=\"\n",
        "    self.resultado=self.valorA*self.valorB\n",
        "\n",
        "  def division(self):\n",
        "    self.msg=\"La division de \" ,self.valorA, \"/\",self.valorB,\"=\"\n",
        "    self.resultado=self.valorA/self.valorB\n",
        "\n",
        "  def imprimir(self):\n",
        "    print(self.msg,self.resultado)\n",
        ""
      ],
      "metadata": {
        "id": "c4cq8-nYDFUe"
      },
      "execution_count": 11,
      "outputs": []
    },
    {
      "cell_type": "code",
      "source": [
        "obj=Operaciones()\n",
        "obj.valorA = int(input(\"Ingresa el primer valor:\"))\n",
        "obj.valorB = int(input(\"Ingresa el segundo valor:\"))\n",
        "obj.sumas()\n",
        "obj.imprimir()\n",
        "obj.restas()\n",
        "obj.imprimir()\n",
        "obj.multiplicacion()\n",
        "obj.imprimir()\n",
        "obj.division()\n",
        "obj.imprimir()"
      ],
      "metadata": {
        "colab": {
          "base_uri": "https://localhost:8080/"
        },
        "id": "quoXeguvEBjN",
        "outputId": "502264ba-0dfa-49ae-d7a8-9c70939481b5"
      },
      "execution_count": 14,
      "outputs": [
        {
          "output_type": "stream",
          "name": "stdout",
          "text": [
            "Ingresa el primer valor:10\n",
            "Ingresa el segundo valor:5\n",
            "('La suma de ', 10, '+', 5, '=') 15\n",
            "('La resta de ', 10, '+', 5, '=') 5\n",
            "('La multiplicacion de ', 10, '*', 5, '=') 50\n",
            "('La division de ', 10, '/', 5, '=') 2.0\n"
          ]
        }
      ]
    }
  ]
}