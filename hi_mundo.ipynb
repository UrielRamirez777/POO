{
  "nbformat": 4,
  "nbformat_minor": 0,
  "metadata": {
    "colab": {
      "provenance": [],
      "authorship_tag": "ABX9TyPjlBcVWvT6ji9A6IVxV9Sw",
      "include_colab_link": true
    },
    "kernelspec": {
      "name": "python3",
      "display_name": "Python 3"
    },
    "language_info": {
      "name": "python"
    }
  },
  "cells": [
    {
      "cell_type": "markdown",
      "metadata": {
        "id": "view-in-github",
        "colab_type": "text"
      },
      "source": [
        "<a href=\"https://colab.research.google.com/github/UrielRamirez777/POO/blob/main/hi_mundo.ipynb\" target=\"_parent\"><img src=\"https://colab.research.google.com/assets/colab-badge.svg\" alt=\"Open In Colab\"/></a>"
      ]
    },
    {
      "cell_type": "code",
      "execution_count": 1,
      "metadata": {
        "colab": {
          "base_uri": "https://localhost:8080/"
        },
        "id": "PLuCqbAM0QDs",
        "outputId": "15806a0e-b6bd-42ae-b71d-62eb94cda4c2"
      },
      "outputs": [
        {
          "output_type": "stream",
          "name": "stdout",
          "text": [
            "Hola mundo\n"
          ]
        }
      ],
      "source": [
        "print(\"Hola mundo\")"
      ]
    },
    {
      "cell_type": "markdown",
      "source": [
        "Mi primer programa :) hecho por: Uriel Ramirez Monrroy. 06/02/2025"
      ],
      "metadata": {
        "id": "oLo13O9A0Vgq"
      }
    }
  ]
}