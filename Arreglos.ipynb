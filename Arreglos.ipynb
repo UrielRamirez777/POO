{
  "nbformat": 4,
  "nbformat_minor": 0,
  "metadata": {
    "colab": {
      "provenance": [],
      "authorship_tag": "ABX9TyMlejvCCgoMzti2QvuDdONx",
      "include_colab_link": true
    },
    "kernelspec": {
      "name": "python3",
      "display_name": "Python 3"
    },
    "language_info": {
      "name": "python"
    }
  },
  "cells": [
    {
      "cell_type": "markdown",
      "metadata": {
        "id": "view-in-github",
        "colab_type": "text"
      },
      "source": [
        "<a href=\"https://colab.research.google.com/github/UrielRamirez777/POO/blob/main/Arreglos.ipynb\" target=\"_parent\"><img src=\"https://colab.research.google.com/assets/colab-badge.svg\" alt=\"Open In Colab\"/></a>"
      ]
    },
    {
      "cell_type": "code",
      "execution_count": 7,
      "metadata": {
        "colab": {
          "base_uri": "https://localhost:8080/"
        },
        "id": "uPq0cmuUU0-U",
        "outputId": "9d35042b-a117-42bb-8d6e-562e1604e479"
      },
      "outputs": [
        {
          "output_type": "stream",
          "name": "stdout",
          "text": [
            "4\n",
            "0\n",
            "-1\n"
          ]
        }
      ],
      "source": [
        "import random\n",
        "\n",
        "x=\"hola\"\n",
        "print(len(x))\n",
        "u = random.randint(0,len(x)-1)\n",
        "print(u)\n",
        "\n",
        "y=x.find(\"A\")\n",
        "print(y)"
      ]
    },
    {
      "cell_type": "markdown",
      "source": [
        "Hecho por: Uriel Ramirez Monrroy 21/02/2024"
      ],
      "metadata": {
        "id": "rHEzyfGjq_Ci"
      }
    }
  ]
}