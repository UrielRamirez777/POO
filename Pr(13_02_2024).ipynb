{
  "nbformat": 4,
  "nbformat_minor": 0,
  "metadata": {
    "colab": {
      "provenance": [],
      "authorship_tag": "ABX9TyNhvJHYMvmS0rh1bhJ9/bPL",
      "include_colab_link": true
    },
    "kernelspec": {
      "name": "python3",
      "display_name": "Python 3"
    },
    "language_info": {
      "name": "python"
    }
  },
  "cells": [
    {
      "cell_type": "markdown",
      "metadata": {
        "id": "view-in-github",
        "colab_type": "text"
      },
      "source": [
        "<a href=\"https://colab.research.google.com/github/UrielRamirez777/POO/blob/main/Pr(13_02_2024).ipynb\" target=\"_parent\"><img src=\"https://colab.research.google.com/assets/colab-badge.svg\" alt=\"Open In Colab\"/></a>"
      ]
    },
    {
      "cell_type": "markdown",
      "source": [
        "hecho por:Uriel Ramirez Monrroy 13/02/2024"
      ],
      "metadata": {
        "id": "LSV_w6kC-OUg"
      }
    },
    {
      "cell_type": "code",
      "execution_count": 12,
      "metadata": {
        "colab": {
          "base_uri": "https://localhost:8080/"
        },
        "id": "lZixr5Zd6UaV",
        "outputId": "fbeebd02-84ea-4e3f-e9df-43d5f92d5693"
      },
      "outputs": [
        {
          "output_type": "stream",
          "name": "stdout",
          "text": [
            "Ingrese el primer numero: 4\n",
            "Ingrese el segundo numero: 2\n",
            "La suma es:  6\n"
          ]
        }
      ],
      "source": [
        "class operaciones():\n",
        "  def __init__(self,a,b):\n",
        "    self.a=a\n",
        "    self.b=b\n",
        "\n",
        "  def suma(self):\n",
        "    self.r=self.a+self.b\n",
        "    return self.r\n",
        "\n",
        "v1 = int(input(\"Ingrese el primer numero: \"))\n",
        "v2 = int(input(\"Ingrese el segundo numero: \"))\n",
        "obj = operaciones(a,b)\n",
        "r=obj.suma()\n",
        "print(\"La suma es: \",r)\n",
        "\n",
        "\n",
        "\n"
      ]
    }
  ]
}