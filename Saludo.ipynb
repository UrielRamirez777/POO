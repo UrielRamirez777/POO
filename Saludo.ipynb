{
  "nbformat": 4,
  "nbformat_minor": 0,
  "metadata": {
    "colab": {
      "provenance": [],
      "authorship_tag": "ABX9TyO5XkkgduUFa3XSJYQJKwbW",
      "include_colab_link": true
    },
    "kernelspec": {
      "name": "python3",
      "display_name": "Python 3"
    },
    "language_info": {
      "name": "python"
    }
  },
  "cells": [
    {
      "cell_type": "markdown",
      "metadata": {
        "id": "view-in-github",
        "colab_type": "text"
      },
      "source": [
        "<a href=\"https://colab.research.google.com/github/UrielRamirez777/POO/blob/main/Saludo.ipynb\" target=\"_parent\"><img src=\"https://colab.research.google.com/assets/colab-badge.svg\" alt=\"Open In Colab\"/></a>"
      ]
    },
    {
      "cell_type": "markdown",
      "source": [
        "Programa hecho por: Uriel Ramirez Monrroy. 06/02/2025"
      ],
      "metadata": {
        "id": "a6DfX-5r7SEa"
      }
    },
    {
      "cell_type": "code",
      "execution_count": 7,
      "metadata": {
        "id": "Dpeo0RxT3LG5"
      },
      "outputs": [],
      "source": [
        "class Saludo:\n",
        "  def __init__(self):\n",
        "    self.nombre = \"Uriel\"\n",
        "\n",
        "  def saludar(self):\n",
        "    print(\"hola\",self.nombre)\n"
      ]
    },
    {
      "cell_type": "code",
      "source": [
        "x=Saludo()\n",
        "x.saludar()"
      ],
      "metadata": {
        "colab": {
          "base_uri": "https://localhost:8080/"
        },
        "id": "eQsZvVwo7s6f",
        "outputId": "ab470761-2b64-4e7a-ec43-07fe15e0c1ea"
      },
      "execution_count": 8,
      "outputs": [
        {
          "output_type": "stream",
          "name": "stdout",
          "text": [
            "hola Uriel\n"
          ]
        }
      ]
    }
  ]
}